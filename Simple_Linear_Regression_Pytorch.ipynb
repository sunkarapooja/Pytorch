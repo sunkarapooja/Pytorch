{
  "nbformat": 4,
  "nbformat_minor": 0,
  "metadata": {
    "colab": {
      "name": "Simple_Linear_Regression_Pytorch.ipynb",
      "provenance": []
    },
    "kernelspec": {
      "name": "python3",
      "display_name": "Python 3"
    },
    "language_info": {
      "name": "python"
    }
  },
  "cells": [
    {
      "cell_type": "code",
      "metadata": {
        "id": "AM98V8BGBJvp"
      },
      "source": [
        "import torch\n",
        "import numpy as np\n",
        "rnd = np.random\n",
        "import torch.Linear as nn"
      ],
      "execution_count": 1,
      "outputs": []
    },
    {
      "cell_type": "code",
      "metadata": {
        "id": "ZzaTJAwdBz-f"
      },
      "source": [
        "learning_rate=0.01\n",
        "training_epocs=1000\n",
        "display_steps = 50"
      ],
      "execution_count": 2,
      "outputs": []
    },
    {
      "cell_type": "code",
      "metadata": {
        "id": "HWmrw9mOB70y"
      },
      "source": [
        "# Training Data.\n",
        "X = np.array([3.3,4.4,5.5,6.71,6.93,4.168,9.779,6.182,7.59,2.167,\n",
        "              7.042,10.791,5.313,7.997,5.654,9.27,3.1])\n",
        "Y = np.array([1.7,2.76,2.09,3.19,1.694,1.573,3.366,2.596,2.53,1.221,\n",
        "              2.827,3.465,1.65,2.904,2.42,2.94,1.3])"
      ],
      "execution_count": 3,
      "outputs": []
    },
    {
      "cell_type": "code",
      "metadata": {
        "id": "ub7bBiJKTK9z"
      },
      "source": [
        "X = torch.from_numpy(X)\n",
        "Y = torch.from_numpy(Y)"
      ],
      "execution_count": 21,
      "outputs": []
    },
    {
      "cell_type": "code",
      "metadata": {
        "id": "bGTK2b6NB_S5"
      },
      "source": [
        "from torch.autograd import Variable\n",
        "# Weight and Bias, initialized randomly.\n",
        "dtype = torch.FloatTensor\n",
        "W = Variable(torch.randn(1), requires_grad=True)\n",
        "b = Variable(torch.randn(1), requires_grad=True)"
      ],
      "execution_count": 12,
      "outputs": []
    },
    {
      "cell_type": "code",
      "metadata": {
        "id": "0hVFKZ4QCMlc"
      },
      "source": [
        "def linear_regression(x):\n",
        "  return W*x+b"
      ],
      "execution_count": 13,
      "outputs": []
    },
    {
      "cell_type": "code",
      "metadata": {
        "id": "wnfNOLwhMiPm"
      },
      "source": [
        "def mean_square(y_pred,y):\n",
        "  return tf.reduce_mean(tf.square(y_pred - y))"
      ],
      "execution_count": null,
      "outputs": []
    },
    {
      "cell_type": "code",
      "metadata": {
        "id": "pjMdD8lKPcnj"
      },
      "source": [
        "def mean_square(y_pred,y):\n",
        "  return torch.mean(torch.square(y_pred - y))"
      ],
      "execution_count": 15,
      "outputs": []
    },
    {
      "cell_type": "code",
      "metadata": {
        "id": "sixyyLaqS6_D"
      },
      "source": [
        "import torch.nn as nn\n",
        "input_size = 1\n",
        "output_size =1\n",
        "model = nn.Linear(input_size, output_size)"
      ],
      "execution_count": 26,
      "outputs": []
    },
    {
      "cell_type": "code",
      "metadata": {
        "id": "_NcNPh7ZPdYZ"
      },
      "source": [
        "import torch.optim as optim\n",
        "optimizer = optim.SGD(model.parameters(), lr = 0.01)"
      ],
      "execution_count": 27,
      "outputs": []
    },
    {
      "cell_type": "markdown",
      "metadata": {
        "id": "TifnbYduVn_n"
      },
      "source": [
        "#### Simple Linear Regression"
      ]
    },
    {
      "cell_type": "code",
      "metadata": {
        "id": "vlUq3QFkRicJ"
      },
      "source": [
        "import torch\n",
        "\n",
        "import numpy as np\n",
        "import matplotlib.pyplot as plt\n",
        "%matplotlib inline\n",
        "\n",
        "from torch.autograd import Variable"
      ],
      "execution_count": 28,
      "outputs": []
    },
    {
      "cell_type": "code",
      "metadata": {
        "id": "Hs_pf1v_Vykg"
      },
      "source": [
        "# Training Data\n",
        "def get_data():\n",
        "    train_X = np.asarray([3.3,4.4,5.5,6.71,6.93,4.168,9.779,6.182,7.59,2.167,\n",
        "                         7.042,10.791,5.313,7.997,5.654,9.27,3.1])\n",
        "    train_Y = np.asarray([1.7,2.76,2.09,3.19,1.694,1.573,3.366,2.596,2.53,1.221,\n",
        "                         2.827,3.465,1.65,2.904,2.42,2.94,1.3])\n",
        "    dtype = torch.FloatTensor\n",
        "    X = Variable(torch.from_numpy(train_X).type(dtype),requires_grad=False).view(17,1)\n",
        "    y = Variable(torch.from_numpy(train_Y).type(dtype),requires_grad=False)\n",
        "    return X,y"
      ],
      "execution_count": 29,
      "outputs": []
    },
    {
      "cell_type": "code",
      "metadata": {
        "id": "6iPsMa-4V6QL"
      },
      "source": [
        "def plot_variable(x,y,z='',**kwargs):\n",
        "    l = []\n",
        "    for a in [x,y]:\n",
        "        if type(a) == Variable:\n",
        "            l.append(a.data.numpy())\n",
        "    plt.plot(l[0],l[1],z,**kwargs)"
      ],
      "execution_count": 30,
      "outputs": []
    },
    {
      "cell_type": "code",
      "metadata": {
        "id": "MvzG1Jw7V8ik"
      },
      "source": [
        "def get_weights():\n",
        "    w = Variable(torch.randn(1),requires_grad = True)\n",
        "    b = Variable(torch.randn(1),requires_grad=True)\n",
        "    return w,b"
      ],
      "execution_count": 31,
      "outputs": []
    },
    {
      "cell_type": "code",
      "metadata": {
        "id": "gg8jaC_kV-W4"
      },
      "source": [
        "def simple_network(x):\n",
        "    y_pred = torch.matmul(x,w)+b\n",
        "    return y_pred"
      ],
      "execution_count": 32,
      "outputs": []
    },
    {
      "cell_type": "code",
      "metadata": {
        "id": "yxLOd-8GWA_r"
      },
      "source": [
        "def loss_fn(y,y_pred):\n",
        "    loss = (y_pred-y).pow(2).sum()\n",
        "    for param in [w,b]:\n",
        "        if not param.grad is None: param.grad.data.zero_()\n",
        "    loss.backward()\n",
        "    return loss.data"
      ],
      "execution_count": 34,
      "outputs": []
    },
    {
      "cell_type": "code",
      "metadata": {
        "id": "fnSj1T48WDsO"
      },
      "source": [
        "def optimize(learning_rate):\n",
        "    w.data -= learning_rate * w.grad.data\n",
        "    b.data -= learning_rate * b.grad.data\n",
        "\n",
        "learning_rate = 1e-4"
      ],
      "execution_count": 35,
      "outputs": []
    },
    {
      "cell_type": "code",
      "metadata": {
        "colab": {
          "base_uri": "https://localhost:8080/"
        },
        "id": "AFiPu028WH9E",
        "outputId": "3b8bef49-bb4c-4263-b6d9-7b9c7f0eaef9"
      },
      "source": [
        "x,y = get_data()               # x - represents training data,y - represents target variables\n",
        "w,b = get_weights()           # w,b - Learnable parameters\n",
        "for i in range(500):\n",
        "    y_pred = simple_network(x) # function which computes wx + b\n",
        "    loss = loss_fn(y,y_pred)   # calculates sum of the squared differences of y and y_pred\n",
        "    if i % 50 == 0: \n",
        "        print(loss)\n",
        "    optimize(learning_rate)    "
      ],
      "execution_count": 36,
      "outputs": [
        {
          "output_type": "stream",
          "text": [
            "tensor(45.6808)\n",
            "tensor(3.1501)\n",
            "tensor(3.1285)\n",
            "tensor(3.1078)\n",
            "tensor(3.0879)\n",
            "tensor(3.0688)\n",
            "tensor(3.0504)\n",
            "tensor(3.0329)\n",
            "tensor(3.0160)\n",
            "tensor(2.9998)\n"
          ],
          "name": "stdout"
        }
      ]
    },
    {
      "cell_type": "code",
      "metadata": {
        "id": "4ZT7aVblWLz4"
      },
      "source": [
        "# x_numpy = x.data.numpy()\n",
        "# plot_variable(x,y,'ro')\n",
        "# plot_variable(x,y_pred,label='Fitted line')"
      ],
      "execution_count": 38,
      "outputs": []
    },
    {
      "cell_type": "code",
      "metadata": {
        "id": "p-MgAtsRWPwI"
      },
      "source": [
        "]"
      ],
      "execution_count": 38,
      "outputs": []
    }
  ]
}